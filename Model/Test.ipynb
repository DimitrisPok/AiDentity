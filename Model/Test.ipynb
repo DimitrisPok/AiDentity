{
 "cells": [
  {
   "cell_type": "code",
   "execution_count": null,
   "metadata": {},
   "outputs": [],
   "source": [
    "import sqlite3\n",
    "\n",
    "# Connect to the SQLite database\n",
    "conn = sqlite3.connect('/Users/sadhanaanandan/monorepo/Model/lfw_dataset.db')\n",
    "cursor = conn.cursor()\n",
    "\n",
    "# Execute a query to retrieve targets and their names\n",
    "cursor.execute('SELECT DISTINCT target, name FROM faces')\n",
    "\n",
    "# Fetch the result\n",
    "#total_targets = cursor.fetchone()[0]\n",
    "\n",
    "# Print out the total number of targets\n",
    "#print(f'Total number of targets: {total_targets}')\n",
    "\n",
    "# Execute a query to retrieve targets and their names\n",
    "cursor.execute('SELECT DISTINCT target, name FROM faces')\n",
    "\n",
    "# Fetch all the results\n",
    "results = cursor.fetchall()\n",
    "\n",
    "i = 1\n",
    "\n",
    "# Print out the targets and their names\n",
    "for row in results:\n",
    "    target, name = row\n",
    "    print(f'Target: {target}, Name: {name}, count: {i}')\n",
    "    i+=1\n",
    "\n",
    "\n",
    "# Close the connection\n",
    "conn.close()\n"
   ]
  }
 ],
 "metadata": {
  "kernelspec": {
   "display_name": "base",
   "language": "python",
   "name": "python3"
  },
  "language_info": {
   "codemirror_mode": {
    "name": "ipython",
    "version": 3
   },
   "file_extension": ".py",
   "mimetype": "text/x-python",
   "name": "python",
   "nbconvert_exporter": "python",
   "pygments_lexer": "ipython3",
   "version": "3.11.5"
  }
 },
 "nbformat": 4,
 "nbformat_minor": 2
}
