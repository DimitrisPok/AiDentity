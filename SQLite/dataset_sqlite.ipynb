{
 "cells": [
  {
   "cell_type": "code",
   "execution_count": null,
   "id": "db356fd1",
   "metadata": {},
   "outputs": [],
   "source": [
    "import sqlite3\n",
    "from sklearn.datasets import fetch_lfw_people\n",
    "import pandas as pd\n",
    "import numpy as np\n",
    "import matplotlib.pyplot as plt\n",
    "import pickle\n",
    "\n",
    "# load the data using sklearn\n",
    "lfw_dataset = fetch_lfw_people(data_home='./LFW/', min_faces_per_person=10, download_if_missing=True, color=False)\n",
    "\n",
    "# connecting to our SQLite database\n",
    "conn = sqlite3.connect('lfw_dataset.db')\n",
    "cursor = conn.cursor()\n",
    "\n",
    "# creating a table\n",
    "cursor.execute('''\n",
    "    CREATE TABLE IF NOT EXISTS faces (\n",
    "        id INTEGER PRIMARY KEY,\n",
    "        target INTEGER,\n",
    "        name TEXT NOT NULL,\n",
    "        image BLOB NOT NULL\n",
    "    )\n",
    "''')\n",
    "\n",
    "image_index = -1\n",
    "# Inserting the targets, names, and images into the table\n",
    "for images in lfw_dataset.images:\n",
    "    # Convert the image data to bytes\n",
    "    image_bytes = pickle.dumps(images)\n",
    "    image_index += 1\n",
    "    # Get the target index for the specified image\n",
    "    target_index = lfw_dataset.target[image_index]\n",
    "    # Get the corresponding name from target_names\n",
    "    name = lfw_dataset.target_names[target_index]\n",
    "    # Insert the record into the database with target as id\n",
    "    cursor.execute(\"INSERT INTO faces (target, name, image) VALUES (?, ?, ?)\", (int(target_index), name, image_bytes))\n",
    "\n",
    "# commit the changes and close the connection\n",
    "conn.commit()\n",
    "conn.close()\n",
    "\n",
    "# printing the rows in the dataset to see if it works fine (just for testing)\n",
    "conn = sqlite3.connect('lfw_dataset.db')\n",
    "cursor = conn.cursor()\n",
    "\n",
    "cursor.execute('SELECT * FROM faces')\n",
    "\n",
    "rows = cursor.fetchall()\n",
    "\n",
    "if not rows:\n",
    "    print(\"No data.\")\n",
    "else:\n",
    "    print(f\"Total rows: {len(rows)}\")\n",
    "    # Print the data\n",
    "    for row in rows:\n",
    "        print(f\"Labels: {row[1]}, Name: {row[2]}\")\n",
    "\n",
    "# Close the connection\n",
    "conn.close()\n"
   ]
  }
 ],
 "metadata": {
  "kernelspec": {
   "display_name": "Python 3.10.10 64-bit",
   "language": "python",
   "name": "python3"
  },
  "language_info": {
   "codemirror_mode": {
    "name": "ipython",
    "version": 3
   },
   "file_extension": ".py",
   "mimetype": "text/x-python",
   "name": "python",
   "nbconvert_exporter": "python",
   "pygments_lexer": "ipython3",
   "version": "3.10.10"
  },
  "vscode": {
   "interpreter": {
    "hash": "7e1998ff7f8aa20ada591c520b972326324e5ea05489af9e422744c7c09f6dad"
   }
  }
 },
 "nbformat": 4,
 "nbformat_minor": 5
}
