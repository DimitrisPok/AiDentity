{
 "cells": [
  {
   "cell_type": "code",
   "execution_count": 83,
   "metadata": {},
   "outputs": [],
   "source": [
    "from sklearn.model_selection import train_test_split\n",
    "import sqlite3\n",
    "import numpy as np\n",
    "import keras\n",
    "from keras.utils import to_categorical\n",
    "import pandas as pd\n",
    "from PIL import Image\n",
    "import io\n",
    "import pickle\n",
    "\n",
    "def load_dataset(database_path):\n",
    "     # Connect to the SQLite database\n",
    "    conn = sqlite3.connect(database_path)\n",
    "\n",
    "    # Query to select all records from the faces table\n",
    "    query = \"SELECT * FROM faces\"\n",
    "\n",
    "    # Fetch records from the database into a Pandas DataFrame\n",
    "    df = pd.read_sql_query(query, conn)\n",
    "    df['image'] = df['image'].apply(lambda x: np.array(pickle.loads(x)))\n",
    "    # Close the database connection\n",
    "    conn.close()\n",
    "    # Convert image bytes to numpy array\n",
    "    num_classes = len(np.unique(df['target']))\n",
    "    return df, num_classes"
   ]
  },
  {
   "cell_type": "code",
   "execution_count": 84,
   "metadata": {},
   "outputs": [],
   "source": [
    "def split_dataset(df, test_size=0.2, random_state=0):\n",
    "    X_train, X_test, y_train, y_test = train_test_split(df['image'].values, df['target'].values, test_size=test_size, random_state=random_state)\n",
    "    # Convert the image arrays to a numpy array\n",
    "    X_train = np.array([np.array(img) for img in X_train])\n",
    "    X_test = np.array([np.array(img) for img in X_test])\n",
    "    y_train = np.array(y_train)\n",
    "    y_test = np.array(y_test)\n",
    "\n",
    "    # Print the shapes of the resulting sets\n",
    "    print(\"Training set shape:\", X_train.shape, y_train.shape)\n",
    "    print(\"Testing set shape:\", X_test.shape, y_test.shape)\n",
    "\n",
    "    # Plot the first image in X_train\n",
    "    plt.imshow(X_train[0])\n",
    "    plt.title('First Image in X_train')\n",
    "    plt.show()\n",
    "\n",
    "    return X_train, X_test, y_train, y_test"
   ]
  },
  {
   "cell_type": "code",
   "execution_count": 85,
   "metadata": {},
   "outputs": [],
   "source": [
    "\n",
    "def preprocess_and_print_shapes(y_train, y_test):\n",
    "    y_train_categorical = keras.utils.to_categorical(y_train, num_classes)\n",
    "    y_test_categorical = keras.utils.to_categorical(y_test, num_classes)\n",
    "\n",
    "    print(\"Training set shape:\", X_train.shape, y_train.shape)\n",
    "    print(\"Testing set shape:\", X_test.shape, y_test.shape)\n",
    "\n",
    "    return y_train_categorical, y_test_categorical"
   ]
  },
  {
   "cell_type": "code",
   "execution_count": 86,
   "metadata": {},
   "outputs": [],
   "source": [
    "from keras.models import Sequential\n",
    "from keras.layers import Conv2D, MaxPooling2D, Flatten, Dense\n",
    "\n",
    "def train_cnn_model(input_shape, num_classes, X_train, y_train, X_test, y_test):\n",
    "    model = Sequential()\n",
    "    model.add(Conv2D(32, (3, 3), activation='relu', input_shape=input_shape))\n",
    "    model.add(MaxPooling2D(2, 2))\n",
    "    model.add(Conv2D(64, (3, 3), activation='relu'))\n",
    "    model.add(MaxPooling2D(2, 2))\n",
    "    model.add(Conv2D(128, (3, 3), activation='relu'))\n",
    "    model.add(MaxPooling2D(2, 2))\n",
    "    model.add(Conv2D(256, (3, 3), activation='relu'))\n",
    "    model.add(MaxPooling2D(2, 2))\n",
    "    model.add(Flatten())\n",
    "    model.add(Dense(1024, activation='relu'))\n",
    "    model.add(Dense(num_classes, activation='softmax'))\n",
    "    model.compile(optimizer='adam', loss='categorical_crossentropy', metrics=['accuracy'])\n",
    "    model.fit(X_train, y_train, validation_data=(X_test, y_test), epochs=10, batch_size=10)\n",
    "    return model\n"
   ]
  },
  {
   "cell_type": "code",
   "execution_count": 87,
   "metadata": {},
   "outputs": [],
   "source": [
    "from keras.models import Sequential\n",
    "from keras.layers import Conv2D, MaxPooling2D, Flatten, Dense, Resizing\n",
    "from keras.applications import vgg16\n",
    "def train_model_v2(num_classes, X_train, y_train, X_test, y_test):\n",
    "    \n",
    "    vgg=vgg16.VGG16(weights='imagenet', include_top=False, input_shape=(224,224,3))\n",
    "    for layer in vgg.layers:\n",
    "        layer.trainable = False\n",
    "\n",
    "\n",
    "    model = Sequential()\n",
    "    model.add(Resizing(224, 224))\n",
    "    model.add(vgg)\n",
    "    model.add(Flatten())\n",
    "    model.add(Dense(num_classes, activation='softmax'))\n",
    "    model.compile(optimizer='adam', loss='categorical_crossentropy', metrics=['accuracy'])\n",
    "    model.fit(X_train, y_train, validation_data=(X_test, y_test), epochs=10, batch_size=10)\n",
    "    return model\n"
   ]
  },
  {
   "cell_type": "code",
   "execution_count": 88,
   "metadata": {},
   "outputs": [],
   "source": [
    "from sklearn.metrics import (accuracy_score, precision_score, recall_score, f1_score, confusion_matrix)\n",
    "import numpy as np\n",
    "\n",
    "def evaluate_model(model, X_test, y_test):\n",
    "    # Make predictions on the test set\n",
    "    predicted_probabilities = model.predict(X_test)\n",
    "    predicted_classes = np.argmax(predicted_probabilities, axis=1)\n",
    "\n",
    "    # Check if y_test is one-hot encoded and convert it back to class labels\n",
    "    if len(y_test.shape) > 1 and y_test.shape[1] > 1:\n",
    "        y_test = np.argmax(y_test, axis=1)\n",
    "\n",
    "    # Accuracy\n",
    "    accuracy1 = accuracy_score(y_test, predicted_classes)\n",
    "    print(\"Accuracy:\", accuracy1)\n",
    "\n",
    "    # Precision\n",
    "    precision = precision_score(y_test, predicted_classes, average='weighted')\n",
    "    print(\"Precision:\", precision)\n",
    "\n",
    "    # Recall\n",
    "    recall = recall_score(y_test, predicted_classes, average='weighted')\n",
    "    print(\"Recall:\", recall)\n",
    "\n",
    "    # F1 Score\n",
    "    f1 = f1_score(y_test, predicted_classes, average='weighted')\n",
    "    print(\"F1 Score:\", f1)\n",
    "\n",
    "    # Compute confusion matrix\n",
    "    cm = confusion_matrix(y_test, predicted_classes)\n",
    "\n",
    "    # Sum the values for TP, TN, FP, FN\n",
    "    TP = np.sum(np.diag(cm))\n",
    "    TN = np.sum(np.delete(np.delete(cm, np.arange(len(cm)), axis=0), np.arange(len(cm)), axis=1))\n",
    "    FP = np.sum(cm, axis=0) - np.diag(cm)\n",
    "    FN = np.sum(cm, axis=1) - np.diag(cm)\n",
    "\n",
    "    # Print the results\n",
    "    print(\"True Positives (TP):\", TP)\n",
    "    print(\"True Negatives (TN):\", TN)\n",
    "    print(\"False Positives (FP):\", np.sum(FP))\n",
    "    print(\"False Negatives (FN):\", np.sum(FN))\n",
    "    return accuracy1, precision, recall, f1"
   ]
  },
  {
   "cell_type": "code",
   "execution_count": 89,
   "metadata": {},
   "outputs": [],
   "source": [
    "import matplotlib.pyplot as plt\n",
    "import numpy as np\n",
    "\n",
    "def visualize_predictions(df, model, X_test, y_test, num_rows=5, num_cols=5, figsize=(20, 20)):\n",
    "    # Make predictions on the test set\n",
    "    predicted_probabilities = model.predict(X_test)\n",
    "    predicted_classes = np.argmax(predicted_probabilities, axis=1)\n",
    "\n",
    "    # Create subplots\n",
    "    fig, axes = plt.subplots(num_rows, num_cols, figsize=figsize)\n",
    "    axes = axes.ravel()\n",
    "\n",
    "    # Loop through the test set and visualize predictions\n",
    "    for i in range(num_rows * num_cols):\n",
    "        \n",
    "        actual_name = df['name'][np.where(df['target'].values == np.argmax(y_test, axis=1)[i])[0][0]]\n",
    "        predicted_name = df['name'][np.where(df['target'].values == predicted_classes[i])[0][0]] \n",
    "\n",
    "        axes[i].imshow(X_test[i])\n",
    "        axes[i].set_title(\"Prediction Class = {}\\nTrue Class = {}\".format(predicted_name, actual_name))\n",
    "        axes[i].axis('off')\n",
    "\n",
    "    plt.subplots_adjust(wspace=0.5)\n",
    "    plt.show()\n"
   ]
  },
  {
   "cell_type": "code",
   "execution_count": 90,
   "metadata": {},
   "outputs": [
    {
     "name": "stderr",
     "output_type": "stream",
     "text": [
      "Clipping input data to the valid range for imshow with RGB data ([0..1] for floats or [0..255] for integers).\n"
     ]
    },
    {
     "name": "stdout",
     "output_type": "stream",
     "text": [
      "Training set shape: (7, 62, 47, 3) (7,)\n",
      "Testing set shape: (2, 62, 47, 3) (2,)\n"
     ]
    },
    {
     "data": {
      "image/png": "[encoded data removed]",
      "text/plain": [
       "<Figure size 640x480 with 1 Axes>"
      ]
     },
     "metadata": {},
     "output_type": "display_data"
    },
    {
     "ename": "IndexError",
     "evalue": "index 10 is out of bounds for axis 1 with size 9",
     "output_type": "error",
     "traceback": [
      "\u001b[0;31m---------------------------------------------------------------------------\u001b[0m",
      "\u001b[0;31mIndexError\u001b[0m                                Traceback (most recent call last)",
      "\u001b[1;32m/Users/shahhdhassann/monorepo/SQLite/model_v1.ipynb Cell 8\u001b[0m line \u001b[0;36m4\n\u001b[1;32m      <a href='vscode-notebook-cell:/Users/shahhdhassann/monorepo/SQLite/model_v1.ipynb#X66sZmlsZQ%3D%3D?line=0'>1</a>\u001b[0m df, num_classes \u001b[39m=\u001b[39m load_dataset(\u001b[39m'\u001b[39m\u001b[39mnew_dataset.db\u001b[39m\u001b[39m'\u001b[39m)\n\u001b[1;32m      <a href='vscode-notebook-cell:/Users/shahhdhassann/monorepo/SQLite/model_v1.ipynb#X66sZmlsZQ%3D%3D?line=1'>2</a>\u001b[0m X_train, X_test, y_train, y_test \u001b[39m=\u001b[39m split_dataset(df)\n\u001b[0;32m----> <a href='vscode-notebook-cell:/Users/shahhdhassann/monorepo/SQLite/model_v1.ipynb#X66sZmlsZQ%3D%3D?line=3'>4</a>\u001b[0m y_train, y_test \u001b[39m=\u001b[39m preprocess_and_print_shapes(y_train, y_test)\n\u001b[1;32m      <a href='vscode-notebook-cell:/Users/shahhdhassann/monorepo/SQLite/model_v1.ipynb#X66sZmlsZQ%3D%3D?line=5'>6</a>\u001b[0m input_shape \u001b[39m=\u001b[39m (\u001b[39m62\u001b[39m, \u001b[39m47\u001b[39m, \u001b[39m3\u001b[39m)\n\u001b[1;32m      <a href='vscode-notebook-cell:/Users/shahhdhassann/monorepo/SQLite/model_v1.ipynb#X66sZmlsZQ%3D%3D?line=7'>8</a>\u001b[0m \u001b[39m# Train the model\u001b[39;00m\n",
      "\u001b[1;32m/Users/shahhdhassann/monorepo/SQLite/model_v1.ipynb Cell 8\u001b[0m line \u001b[0;36m2\n\u001b[1;32m      <a href='vscode-notebook-cell:/Users/shahhdhassann/monorepo/SQLite/model_v1.ipynb#X66sZmlsZQ%3D%3D?line=0'>1</a>\u001b[0m \u001b[39mdef\u001b[39;00m \u001b[39mpreprocess_and_print_shapes\u001b[39m(y_train, y_test):\n\u001b[0;32m----> <a href='vscode-notebook-cell:/Users/shahhdhassann/monorepo/SQLite/model_v1.ipynb#X66sZmlsZQ%3D%3D?line=1'>2</a>\u001b[0m     y_train_categorical \u001b[39m=\u001b[39m keras\u001b[39m.\u001b[39mutils\u001b[39m.\u001b[39mto_categorical(y_train, num_classes)\n\u001b[1;32m      <a href='vscode-notebook-cell:/Users/shahhdhassann/monorepo/SQLite/model_v1.ipynb#X66sZmlsZQ%3D%3D?line=2'>3</a>\u001b[0m     y_test_categorical \u001b[39m=\u001b[39m keras\u001b[39m.\u001b[39mutils\u001b[39m.\u001b[39mto_categorical(y_test, num_classes)\n\u001b[1;32m      <a href='vscode-notebook-cell:/Users/shahhdhassann/monorepo/SQLite/model_v1.ipynb#X66sZmlsZQ%3D%3D?line=4'>5</a>\u001b[0m     \u001b[39mprint\u001b[39m(\u001b[39m\"\u001b[39m\u001b[39mTraining set shape:\u001b[39m\u001b[39m\"\u001b[39m, X_train\u001b[39m.\u001b[39mshape, y_train\u001b[39m.\u001b[39mshape)\n",
      "File \u001b[0;32m~/anaconda3/lib/python3.11/site-packages/keras/src/utils/np_utils.py:74\u001b[0m, in \u001b[0;36mto_categorical\u001b[0;34m(y, num_classes, dtype)\u001b[0m\n\u001b[1;32m     72\u001b[0m n \u001b[39m=\u001b[39m y\u001b[39m.\u001b[39mshape[\u001b[39m0\u001b[39m]\n\u001b[1;32m     73\u001b[0m categorical \u001b[39m=\u001b[39m np\u001b[39m.\u001b[39mzeros((n, num_classes), dtype\u001b[39m=\u001b[39mdtype)\n\u001b[0;32m---> 74\u001b[0m categorical[np\u001b[39m.\u001b[39marange(n), y] \u001b[39m=\u001b[39m \u001b[39m1\u001b[39m\n\u001b[1;32m     75\u001b[0m output_shape \u001b[39m=\u001b[39m input_shape \u001b[39m+\u001b[39m (num_classes,)\n\u001b[1;32m     76\u001b[0m categorical \u001b[39m=\u001b[39m np\u001b[39m.\u001b[39mreshape(categorical, output_shape)\n",
      "\u001b[0;31mIndexError\u001b[0m: index 10 is out of bounds for axis 1 with size 9"
     ]
    }
   ],
   "source": [
    "df, num_classes = load_dataset('lfw_dataset.db')\n",
    "X_train, X_test, y_train, y_test = split_dataset(df)\n",
    "\n",
    "y_train, y_test = preprocess_and_print_shapes(y_train, y_test)\n",
    "\n",
    "input_shape = (62, 47, 3)\n",
    "\n",
    "# Train the model\n",
    "cnn_model = train_cnn_model(input_shape, num_classes, X_train, y_train, X_test, y_test)\n",
    "\n",
    "#Evaluate the model\n",
    "accuracy1, precision, recall, f1 = evaluate_model(cnn_model, X_test, y_test)\n",
    "print(\"Accuracy:\", accuracy1)\n",
    "print(\"Precision:\", precision)\n",
    "print(\"Recall:\", recall)\n",
    "print(\"F1 Score:\", f1)\n",
    "\n",
    "# Save the trained model\n",
    "cnn_model.save('trained_model.h5')\n",
    "\n",
    "#visualize the model on test set\n",
    "visualize_predictions(df, cnn_model, X_test, y_test)"
   ]
  },
  {
   "cell_type": "code",
   "execution_count": null,
   "metadata": {},
   "outputs": [
    {
     "ename": "NameError",
     "evalue": "name 'Model' is not defined",
     "output_type": "error",
     "traceback": [
      "\u001b[0;31m---------------------------------------------------------------------------\u001b[0m",
      "\u001b[0;31mNameError\u001b[0m                                 Traceback (most recent call last)",
      "\u001b[1;32m/Users/shahhdhassann/monorepo/SQLite/model_v1.ipynb Cell 9\u001b[0m line \u001b[0;36m3\n\u001b[1;32m     <a href='vscode-notebook-cell:/Users/shahhdhassann/monorepo/SQLite/model_v1.ipynb#Y100sZmlsZQ%3D%3D?line=30'>31</a>\u001b[0m         layer_index \u001b[39m+\u001b[39m\u001b[39m=\u001b[39m \u001b[39m1\u001b[39m\n\u001b[1;32m     <a href='vscode-notebook-cell:/Users/shahhdhassann/monorepo/SQLite/model_v1.ipynb#Y100sZmlsZQ%3D%3D?line=32'>33</a>\u001b[0m     plt\u001b[39m.\u001b[39mshow()\n\u001b[0;32m---> <a href='vscode-notebook-cell:/Users/shahhdhassann/monorepo/SQLite/model_v1.ipynb#Y100sZmlsZQ%3D%3D?line=34'>35</a>\u001b[0m visualize_feature_maps(cnn_model, X_train[\u001b[39m0\u001b[39m])\n",
      "\u001b[1;32m/Users/shahhdhassann/monorepo/SQLite/model_v1.ipynb Cell 9\u001b[0m line \u001b[0;36m1\n\u001b[1;32m      <a href='vscode-notebook-cell:/Users/shahhdhassann/monorepo/SQLite/model_v1.ipynb#Y100sZmlsZQ%3D%3D?line=8'>9</a>\u001b[0m conv_layers \u001b[39m=\u001b[39m [layer \u001b[39mfor\u001b[39;00m layer \u001b[39min\u001b[39;00m model\u001b[39m.\u001b[39mlayers \u001b[39mif\u001b[39;00m \u001b[39misinstance\u001b[39m(layer, Conv2D)]\n\u001b[1;32m     <a href='vscode-notebook-cell:/Users/shahhdhassann/monorepo/SQLite/model_v1.ipynb#Y100sZmlsZQ%3D%3D?line=10'>11</a>\u001b[0m \u001b[39m#Create a new model containing only the convolutional layers\u001b[39;00m\n\u001b[0;32m---> <a href='vscode-notebook-cell:/Users/shahhdhassann/monorepo/SQLite/model_v1.ipynb#Y100sZmlsZQ%3D%3D?line=11'>12</a>\u001b[0m model2 \u001b[39m=\u001b[39m Model(inputs\u001b[39m=\u001b[39mmodel\u001b[39m.\u001b[39minputs, outputs\u001b[39m=\u001b[39m[layer\u001b[39m.\u001b[39moutput \u001b[39mfor\u001b[39;00m layer \u001b[39min\u001b[39;00m conv_layers])\n\u001b[1;32m     <a href='vscode-notebook-cell:/Users/shahhdhassann/monorepo/SQLite/model_v1.ipynb#Y100sZmlsZQ%3D%3D?line=13'>14</a>\u001b[0m \u001b[39m#Expand the dimensions of the input to match the model's expected input shape\u001b[39;00m\n\u001b[1;32m     <a href='vscode-notebook-cell:/Users/shahhdhassann/monorepo/SQLite/model_v1.ipynb#Y100sZmlsZQ%3D%3D?line=14'>15</a>\u001b[0m image \u001b[39m=\u001b[39m expand_dims(image, axis\u001b[39m=\u001b[39m\u001b[39m0\u001b[39m)\n",
      "\u001b[0;31mNameError\u001b[0m: name 'Model' is not defined"
     ]
    }
   ],
   "source": [
    "from numpy import expand_dims\n",
    "\n",
    "def visualize_feature_maps(model, image):\n",
    "    \n",
    "    #Get indices of convolutional layers\n",
    "    conv_layer_indices = [i for i, layer in enumerate(model.layers) if isinstance(layer, Conv2D)]\n",
    "\n",
    "    #Create a list to store convolutional layers\n",
    "    conv_layers = [layer for layer in model.layers if isinstance(layer, Conv2D)]\n",
    "\n",
    "    #Create a new model containing only the convolutional layers\n",
    "    model2 = Model(inputs=model.inputs, outputs=[layer.output for layer in conv_layers])\n",
    "\n",
    "    #Expand the dimensions of the input to match the model's expected input shape\n",
    "    image = expand_dims(image, axis=0)\n",
    "\n",
    "    #Get the feature maps\n",
    "    feature_maps = model2.predict(image)\n",
    "    summed_feature_maps = [fmap_list.sum(axis=-1) for fmap_list in feature_maps]\n",
    "\n",
    "    #Plot the feature maps\n",
    "    fig = plt.figure(figsize=(15, 15))\n",
    "    layer_index = 0\n",
    "\n",
    "    for summed_fmap in summed_feature_maps:\n",
    "        ax = plt.subplot(len(conv_layers), 1, layer_index + 1)\n",
    "        ax.set_xticks([])\n",
    "        ax.set_yticks([])\n",
    "        plt.imshow(summed_fmap[0, :, :], cmap='gray')\n",
    "\n",
    "        layer_index += 1\n",
    "\n",
    "    plt.show()\n",
    "    \n",
    "visualize_feature_maps(cnn_model, X_train[0])"
   ]
  },
  {
   "cell_type": "code",
   "execution_count": null,
   "metadata": {},
   "outputs": [],
   "source": []
  }
 ],
 "metadata": {
  "kernelspec": {
   "display_name": "Python 3 (ipykernel)",
   "language": "python",
   "name": "python3"
  },
  "language_info": {
   "codemirror_mode": {
    "name": "ipython",
    "version": 3
   },
   "file_extension": ".py",
   "mimetype": "text/x-python",
   "name": "python",
   "nbconvert_exporter": "python",
   "pygments_lexer": "ipython3",
   "version": "3.11.4"
  },
  "vscode": {
   "interpreter": {
    "hash": "7e1998ff7f8aa20ada591c520b972326324e5ea05489af9e422744c7c09f6dad"
   }
  }
 },
 "nbformat": 4,
 "nbformat_minor": 4
}
